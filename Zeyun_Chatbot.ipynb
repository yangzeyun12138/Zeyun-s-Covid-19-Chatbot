{
  "nbformat": 4,
  "nbformat_minor": 0,
  "metadata": {
    "colab": {
      "name": "Zeyun_Chatbot.ipynb",
      "provenance": [],
      "collapsed_sections": [],
      "include_colab_link": true
    },
    "kernelspec": {
      "name": "python3",
      "display_name": "Python 3"
    }
  },
  "cells": [
    {
      "cell_type": "markdown",
      "metadata": {
        "id": "view-in-github",
        "colab_type": "text"
      },
      "source": [
        "<a href=\"https://colab.research.google.com/github/yangzeyun12138/Zeyun-s-Covid-19-Chatbot/blob/main/Zeyun_Chatbot.ipynb\" target=\"_parent\"><img src=\"https://colab.research.google.com/assets/colab-badge.svg\" alt=\"Open In Colab\"/></a>"
      ]
    },
    {
      "cell_type": "markdown",
      "metadata": {
        "id": "cVeDNXWRagIb"
      },
      "source": [
        "Set up environment"
      ]
    },
    {
      "cell_type": "code",
      "metadata": {
        "id": "rHE2W2zhhnoy",
        "colab": {
          "base_uri": "https://localhost:8080/"
        },
        "outputId": "66e6c29e-a2e7-40ac-f9d8-f76afe150877"
      },
      "source": [
        "pip install python-telegram-bot --upgrade\n"
      ],
      "execution_count": null,
      "outputs": [
        {
          "output_type": "stream",
          "text": [
            "Collecting python-telegram-bot\n",
            "  Using cached https://files.pythonhosted.org/packages/6d/ad/e86f885ab66e54a5f813131e03bd8682ee0b3d2b6a2cde53ed7828b9ef0a/python_telegram_bot-13.0-py2.py3-none-any.whl\n",
            "Requirement already satisfied, skipping upgrade: certifi in /usr/local/lib/python3.6/dist-packages (from python-telegram-bot) (2020.6.20)\n",
            "Requirement already satisfied, skipping upgrade: cryptography in /usr/local/lib/python3.6/dist-packages (from python-telegram-bot) (3.2.1)\n",
            "Requirement already satisfied, skipping upgrade: tornado>=5.1 in /usr/local/lib/python3.6/dist-packages (from python-telegram-bot) (5.1.1)\n",
            "Requirement already satisfied, skipping upgrade: decorator>=4.4.0 in /usr/local/lib/python3.6/dist-packages (from python-telegram-bot) (4.4.2)\n",
            "Requirement already satisfied, skipping upgrade: APScheduler==3.6.3 in /usr/local/lib/python3.6/dist-packages (from python-telegram-bot) (3.6.3)\n",
            "Requirement already satisfied, skipping upgrade: six>=1.4.1 in /usr/local/lib/python3.6/dist-packages (from cryptography->python-telegram-bot) (1.15.0)\n",
            "Requirement already satisfied, skipping upgrade: cffi!=1.11.3,>=1.8 in /usr/local/lib/python3.6/dist-packages (from cryptography->python-telegram-bot) (1.14.3)\n",
            "Requirement already satisfied, skipping upgrade: setuptools>=0.7 in /usr/local/lib/python3.6/dist-packages (from APScheduler==3.6.3->python-telegram-bot) (50.3.2)\n",
            "Requirement already satisfied, skipping upgrade: pytz in /usr/local/lib/python3.6/dist-packages (from APScheduler==3.6.3->python-telegram-bot) (2020.4)\n",
            "Requirement already satisfied, skipping upgrade: tzlocal>=1.2 in /usr/local/lib/python3.6/dist-packages (from APScheduler==3.6.3->python-telegram-bot) (1.5.1)\n",
            "Requirement already satisfied, skipping upgrade: pycparser in /usr/local/lib/python3.6/dist-packages (from cffi!=1.11.3,>=1.8->cryptography->python-telegram-bot) (2.20)\n",
            "\u001b[31mERROR: rasa 2.0.6 has requirement cloudpickle<1.5,>=1.2, but you'll have cloudpickle 0.6.1 which is incompatible.\u001b[0m\n",
            "\u001b[31mERROR: rasa 2.0.6 has requirement jsonschema<3.3,>=3.2, but you'll have jsonschema 2.6.0 which is incompatible.\u001b[0m\n",
            "\u001b[31mERROR: rasa 2.0.6 has requirement matplotlib<3.4,>=3.1, but you'll have matplotlib 2.2.5 which is incompatible.\u001b[0m\n",
            "\u001b[31mERROR: rasa 2.0.6 has requirement packaging<21.0,>=20.0, but you'll have packaging 18.0 which is incompatible.\u001b[0m\n",
            "\u001b[31mERROR: rasa 2.0.6 has requirement python-dateutil<2.9,>=2.8, but you'll have python-dateutil 2.6.0 which is incompatible.\u001b[0m\n",
            "\u001b[31mERROR: rasa 2.0.6 has requirement python-telegram-bot<13.0,>=11.1, but you'll have python-telegram-bot 13.0 which is incompatible.\u001b[0m\n",
            "\u001b[31mERROR: rasa 2.0.6 has requirement ruamel.yaml<0.17.0,>=0.16.5, but you'll have ruamel-yaml 0.15.100 which is incompatible.\u001b[0m\n",
            "\u001b[31mERROR: rasa 2.0.6 has requirement scikit-learn<0.24,>=0.22, but you'll have scikit-learn 0.20.4 which is incompatible.\u001b[0m\n",
            "Installing collected packages: python-telegram-bot\n",
            "  Found existing installation: python-telegram-bot 12.8\n",
            "    Uninstalling python-telegram-bot-12.8:\n",
            "      Successfully uninstalled python-telegram-bot-12.8\n",
            "Successfully installed python-telegram-bot-13.0\n"
          ],
          "name": "stdout"
        }
      ]
    },
    {
      "cell_type": "code",
      "metadata": {
        "id": "TWgTs5umSxVl",
        "colab": {
          "base_uri": "https://localhost:8080/"
        },
        "outputId": "25f37c49-3019-4246-f9e9-2834461b14fa"
      },
      "source": [
        "pip install numpy"
      ],
      "execution_count": null,
      "outputs": [
        {
          "output_type": "stream",
          "text": [
            "Requirement already satisfied: numpy in /usr/local/lib/python3.6/dist-packages (1.18.5)\n"
          ],
          "name": "stdout"
        }
      ]
    },
    {
      "cell_type": "code",
      "metadata": {
        "id": "c-HvV9niS0eW",
        "colab": {
          "base_uri": "https://localhost:8080/"
        },
        "outputId": "57f84056-b20a-4bc6-e108-8bb1335ce356"
      },
      "source": [
        "pip install -U spacy"
      ],
      "execution_count": null,
      "outputs": [
        {
          "output_type": "stream",
          "text": [
            "Requirement already up-to-date: spacy in /usr/local/lib/python3.6/dist-packages (2.3.2)\n",
            "Requirement already satisfied, skipping upgrade: wasabi<1.1.0,>=0.4.0 in /usr/local/lib/python3.6/dist-packages (from spacy) (0.8.0)\n",
            "Requirement already satisfied, skipping upgrade: srsly<1.1.0,>=1.0.2 in /usr/local/lib/python3.6/dist-packages (from spacy) (1.0.2)\n",
            "Requirement already satisfied, skipping upgrade: numpy>=1.15.0 in /usr/local/lib/python3.6/dist-packages (from spacy) (1.18.5)\n",
            "Requirement already satisfied, skipping upgrade: thinc==7.4.1 in /usr/local/lib/python3.6/dist-packages (from spacy) (7.4.1)\n",
            "Requirement already satisfied, skipping upgrade: blis<0.5.0,>=0.4.0 in /usr/local/lib/python3.6/dist-packages (from spacy) (0.4.1)\n",
            "Requirement already satisfied, skipping upgrade: setuptools in /usr/local/lib/python3.6/dist-packages (from spacy) (50.3.2)\n",
            "Requirement already satisfied, skipping upgrade: requests<3.0.0,>=2.13.0 in /usr/local/lib/python3.6/dist-packages (from spacy) (2.23.0)\n",
            "Requirement already satisfied, skipping upgrade: tqdm<5.0.0,>=4.38.0 in /usr/local/lib/python3.6/dist-packages (from spacy) (4.41.1)\n",
            "Requirement already satisfied, skipping upgrade: cymem<2.1.0,>=2.0.2 in /usr/local/lib/python3.6/dist-packages (from spacy) (2.0.4)\n",
            "Requirement already satisfied, skipping upgrade: preshed<3.1.0,>=3.0.2 in /usr/local/lib/python3.6/dist-packages (from spacy) (3.0.2)\n",
            "Requirement already satisfied, skipping upgrade: plac<1.2.0,>=0.9.6 in /usr/local/lib/python3.6/dist-packages (from spacy) (1.1.3)\n",
            "Requirement already satisfied, skipping upgrade: murmurhash<1.1.0,>=0.28.0 in /usr/local/lib/python3.6/dist-packages (from spacy) (1.0.3)\n",
            "Requirement already satisfied, skipping upgrade: catalogue<1.1.0,>=0.0.7 in /usr/local/lib/python3.6/dist-packages (from spacy) (1.0.0)\n",
            "Requirement already satisfied, skipping upgrade: urllib3!=1.25.0,!=1.25.1,<1.26,>=1.21.1 in /usr/local/lib/python3.6/dist-packages (from requests<3.0.0,>=2.13.0->spacy) (1.24.3)\n",
            "Requirement already satisfied, skipping upgrade: certifi>=2017.4.17 in /usr/local/lib/python3.6/dist-packages (from requests<3.0.0,>=2.13.0->spacy) (2020.6.20)\n",
            "Requirement already satisfied, skipping upgrade: chardet<4,>=3.0.2 in /usr/local/lib/python3.6/dist-packages (from requests<3.0.0,>=2.13.0->spacy) (3.0.4)\n",
            "Requirement already satisfied, skipping upgrade: idna<3,>=2.5 in /usr/local/lib/python3.6/dist-packages (from requests<3.0.0,>=2.13.0->spacy) (2.10)\n",
            "Requirement already satisfied, skipping upgrade: importlib-metadata>=0.20; python_version < \"3.8\" in /usr/local/lib/python3.6/dist-packages (from catalogue<1.1.0,>=0.0.7->spacy) (2.0.0)\n",
            "Requirement already satisfied, skipping upgrade: zipp>=0.5 in /usr/local/lib/python3.6/dist-packages (from importlib-metadata>=0.20; python_version < \"3.8\"->catalogue<1.1.0,>=0.0.7->spacy) (3.4.0)\n"
          ],
          "name": "stdout"
        }
      ]
    },
    {
      "cell_type": "code",
      "metadata": {
        "id": "TEvcU_iWS0P1",
        "colab": {
          "base_uri": "https://localhost:8080/"
        },
        "outputId": "66119be7-e207-48dd-97db-164de487fe05"
      },
      "source": [
        "import spacy.cli\n",
        "spacy.cli.download(\"en_core_web_md\")\n",
        "spacy.cli.download(\"en_core_web_lg\")"
      ],
      "execution_count": null,
      "outputs": [
        {
          "output_type": "stream",
          "text": [
            "\u001b[38;5;2m✔ Download and installation successful\u001b[0m\n",
            "You can now load the model via spacy.load('en_core_web_md')\n",
            "\u001b[38;5;2m✔ Download and installation successful\u001b[0m\n",
            "You can now load the model via spacy.load('en_core_web_lg')\n"
          ],
          "name": "stdout"
        }
      ]
    },
    {
      "cell_type": "code",
      "metadata": {
        "id": "ScinIk5RVL8P",
        "colab": {
          "base_uri": "https://localhost:8080/"
        },
        "outputId": "620c2c9b-bace-4067-97c7-c6a8b9840da1"
      },
      "source": [
        "!python -m spacy download en_core_web_md"
      ],
      "execution_count": null,
      "outputs": [
        {
          "output_type": "stream",
          "text": [
            "Requirement already satisfied: en_core_web_md==2.3.1 from https://github.com/explosion/spacy-models/releases/download/en_core_web_md-2.3.1/en_core_web_md-2.3.1.tar.gz#egg=en_core_web_md==2.3.1 in /usr/local/lib/python3.6/dist-packages (2.3.1)\n",
            "Requirement already satisfied: spacy<2.4.0,>=2.3.0 in /usr/local/lib/python3.6/dist-packages (from en_core_web_md==2.3.1) (2.3.2)\n",
            "Requirement already satisfied: thinc==7.4.1 in /usr/local/lib/python3.6/dist-packages (from spacy<2.4.0,>=2.3.0->en_core_web_md==2.3.1) (7.4.1)\n",
            "Requirement already satisfied: cymem<2.1.0,>=2.0.2 in /usr/local/lib/python3.6/dist-packages (from spacy<2.4.0,>=2.3.0->en_core_web_md==2.3.1) (2.0.4)\n",
            "Requirement already satisfied: numpy>=1.15.0 in /usr/local/lib/python3.6/dist-packages (from spacy<2.4.0,>=2.3.0->en_core_web_md==2.3.1) (1.18.5)\n",
            "Requirement already satisfied: murmurhash<1.1.0,>=0.28.0 in /usr/local/lib/python3.6/dist-packages (from spacy<2.4.0,>=2.3.0->en_core_web_md==2.3.1) (1.0.3)\n",
            "Requirement already satisfied: blis<0.5.0,>=0.4.0 in /usr/local/lib/python3.6/dist-packages (from spacy<2.4.0,>=2.3.0->en_core_web_md==2.3.1) (0.4.1)\n",
            "Requirement already satisfied: preshed<3.1.0,>=3.0.2 in /usr/local/lib/python3.6/dist-packages (from spacy<2.4.0,>=2.3.0->en_core_web_md==2.3.1) (3.0.2)\n",
            "Requirement already satisfied: wasabi<1.1.0,>=0.4.0 in /usr/local/lib/python3.6/dist-packages (from spacy<2.4.0,>=2.3.0->en_core_web_md==2.3.1) (0.8.0)\n",
            "Requirement already satisfied: tqdm<5.0.0,>=4.38.0 in /usr/local/lib/python3.6/dist-packages (from spacy<2.4.0,>=2.3.0->en_core_web_md==2.3.1) (4.41.1)\n",
            "Requirement already satisfied: catalogue<1.1.0,>=0.0.7 in /usr/local/lib/python3.6/dist-packages (from spacy<2.4.0,>=2.3.0->en_core_web_md==2.3.1) (1.0.0)\n",
            "Requirement already satisfied: plac<1.2.0,>=0.9.6 in /usr/local/lib/python3.6/dist-packages (from spacy<2.4.0,>=2.3.0->en_core_web_md==2.3.1) (1.1.3)\n",
            "Requirement already satisfied: setuptools in /usr/local/lib/python3.6/dist-packages (from spacy<2.4.0,>=2.3.0->en_core_web_md==2.3.1) (50.3.2)\n",
            "Requirement already satisfied: srsly<1.1.0,>=1.0.2 in /usr/local/lib/python3.6/dist-packages (from spacy<2.4.0,>=2.3.0->en_core_web_md==2.3.1) (1.0.2)\n",
            "Requirement already satisfied: requests<3.0.0,>=2.13.0 in /usr/local/lib/python3.6/dist-packages (from spacy<2.4.0,>=2.3.0->en_core_web_md==2.3.1) (2.23.0)\n",
            "Requirement already satisfied: importlib-metadata>=0.20; python_version < \"3.8\" in /usr/local/lib/python3.6/dist-packages (from catalogue<1.1.0,>=0.0.7->spacy<2.4.0,>=2.3.0->en_core_web_md==2.3.1) (2.0.0)\n",
            "Requirement already satisfied: idna<3,>=2.5 in /usr/local/lib/python3.6/dist-packages (from requests<3.0.0,>=2.13.0->spacy<2.4.0,>=2.3.0->en_core_web_md==2.3.1) (2.10)\n",
            "Requirement already satisfied: urllib3!=1.25.0,!=1.25.1,<1.26,>=1.21.1 in /usr/local/lib/python3.6/dist-packages (from requests<3.0.0,>=2.13.0->spacy<2.4.0,>=2.3.0->en_core_web_md==2.3.1) (1.24.3)\n",
            "Requirement already satisfied: chardet<4,>=3.0.2 in /usr/local/lib/python3.6/dist-packages (from requests<3.0.0,>=2.13.0->spacy<2.4.0,>=2.3.0->en_core_web_md==2.3.1) (3.0.4)\n",
            "Requirement already satisfied: certifi>=2017.4.17 in /usr/local/lib/python3.6/dist-packages (from requests<3.0.0,>=2.13.0->spacy<2.4.0,>=2.3.0->en_core_web_md==2.3.1) (2020.6.20)\n",
            "Requirement already satisfied: zipp>=0.5 in /usr/local/lib/python3.6/dist-packages (from importlib-metadata>=0.20; python_version < \"3.8\"->catalogue<1.1.0,>=0.0.7->spacy<2.4.0,>=2.3.0->en_core_web_md==2.3.1) (3.4.0)\n",
            "\u001b[38;5;2m✔ Download and installation successful\u001b[0m\n",
            "You can now load the model via spacy.load('en_core_web_md')\n"
          ],
          "name": "stdout"
        }
      ]
    },
    {
      "cell_type": "code",
      "metadata": {
        "id": "Waw1L0mhpDNc",
        "colab": {
          "base_uri": "https://localhost:8080/"
        },
        "outputId": "68336b59-db59-463e-818e-d9e8257ace76"
      },
      "source": [
        "pip install sklearn"
      ],
      "execution_count": null,
      "outputs": [
        {
          "output_type": "stream",
          "text": [
            "Requirement already satisfied: sklearn in /usr/local/lib/python3.6/dist-packages (0.0)\n",
            "Requirement already satisfied: scikit-learn in /usr/local/lib/python3.6/dist-packages (from sklearn) (0.20.4)\n",
            "Requirement already satisfied: scipy>=0.13.3 in /usr/local/lib/python3.6/dist-packages (from scikit-learn->sklearn) (1.4.1)\n",
            "Requirement already satisfied: numpy>=1.8.2 in /usr/local/lib/python3.6/dist-packages (from scikit-learn->sklearn) (1.18.5)\n"
          ],
          "name": "stdout"
        }
      ]
    },
    {
      "cell_type": "code",
      "metadata": {
        "id": "6rYTIDhFTbC2",
        "colab": {
          "base_uri": "https://localhost:8080/"
        },
        "outputId": "c1526932-5d99-448f-db3f-cd9831d4276d"
      },
      "source": [
        "pip install -U ipython"
      ],
      "execution_count": null,
      "outputs": [
        {
          "output_type": "stream",
          "text": [
            "Requirement already up-to-date: ipython in /usr/local/lib/python3.6/dist-packages (7.16.1)\n",
            "Requirement already satisfied, skipping upgrade: setuptools>=18.5 in /usr/local/lib/python3.6/dist-packages (from ipython) (50.3.2)\n",
            "Requirement already satisfied, skipping upgrade: backcall in /usr/local/lib/python3.6/dist-packages (from ipython) (0.2.0)\n",
            "Requirement already satisfied, skipping upgrade: decorator in /usr/local/lib/python3.6/dist-packages (from ipython) (4.4.2)\n",
            "Requirement already satisfied, skipping upgrade: pexpect; sys_platform != \"win32\" in /usr/local/lib/python3.6/dist-packages (from ipython) (4.8.0)\n",
            "Requirement already satisfied, skipping upgrade: traitlets>=4.2 in /usr/local/lib/python3.6/dist-packages (from ipython) (4.3.3)\n",
            "Requirement already satisfied, skipping upgrade: pickleshare in /usr/local/lib/python3.6/dist-packages (from ipython) (0.7.5)\n",
            "Requirement already satisfied, skipping upgrade: prompt-toolkit!=3.0.0,!=3.0.1,<3.1.0,>=2.0.0 in /usr/local/lib/python3.6/dist-packages (from ipython) (2.0.10)\n",
            "Requirement already satisfied, skipping upgrade: pygments in /usr/local/lib/python3.6/dist-packages (from ipython) (2.6.1)\n",
            "Requirement already satisfied, skipping upgrade: jedi>=0.10 in /usr/local/lib/python3.6/dist-packages (from ipython) (0.17.2)\n",
            "Requirement already satisfied, skipping upgrade: ptyprocess>=0.5 in /usr/local/lib/python3.6/dist-packages (from pexpect; sys_platform != \"win32\"->ipython) (0.6.0)\n",
            "Requirement already satisfied, skipping upgrade: six in /usr/local/lib/python3.6/dist-packages (from traitlets>=4.2->ipython) (1.15.0)\n",
            "Requirement already satisfied, skipping upgrade: ipython-genutils in /usr/local/lib/python3.6/dist-packages (from traitlets>=4.2->ipython) (0.2.0)\n",
            "Requirement already satisfied, skipping upgrade: wcwidth in /usr/local/lib/python3.6/dist-packages (from prompt-toolkit!=3.0.0,!=3.0.1,<3.1.0,>=2.0.0->ipython) (0.2.5)\n",
            "Requirement already satisfied, skipping upgrade: parso<0.8.0,>=0.7.0 in /usr/local/lib/python3.6/dist-packages (from jedi>=0.10->ipython) (0.7.1)\n"
          ],
          "name": "stdout"
        }
      ]
    },
    {
      "cell_type": "code",
      "metadata": {
        "id": "RfDzooMgSz4y",
        "colab": {
          "base_uri": "https://localhost:8080/",
          "height": 1000
        },
        "outputId": "f109d332-eb06-4f07-f213-bcab092bc74a"
      },
      "source": [
        "pip install rasa"
      ],
      "execution_count": null,
      "outputs": [
        {
          "output_type": "stream",
          "text": [
            "Requirement already satisfied: rasa in /usr/local/lib/python3.6/dist-packages (2.0.6)\n",
            "Requirement already satisfied: twilio<6.46,>=6.26 in /usr/local/lib/python3.6/dist-packages (from rasa) (6.45.4)\n",
            "Collecting python-dateutil<2.9,>=2.8\n",
            "\u001b[?25l  Downloading https://files.pythonhosted.org/packages/d4/70/d60450c3dd48ef87586924207ae8907090de0b306af2bce5d134d78615cb/python_dateutil-2.8.1-py2.py3-none-any.whl (227kB)\n",
            "\u001b[K     |████████████████████████████████| 235kB 4.2MB/s \n",
            "\u001b[?25hRequirement already satisfied: requests<3.0,>=2.23 in /usr/local/lib/python3.6/dist-packages (from rasa) (2.23.0)\n",
            "Requirement already satisfied: setuptools>=41.0.0 in /usr/local/lib/python3.6/dist-packages (from rasa) (50.3.2)\n",
            "Requirement already satisfied: mattermostwrapper<2.3,>=2.2 in /usr/local/lib/python3.6/dist-packages (from rasa) (2.2)\n",
            "Requirement already satisfied: questionary<1.6.0,>=1.5.1 in /usr/local/lib/python3.6/dist-packages (from rasa) (1.5.2)\n",
            "Requirement already satisfied: sentry-sdk<0.20.0,>=0.17.0 in /usr/local/lib/python3.6/dist-packages (from rasa) (0.19.3)\n",
            "Requirement already satisfied: async_generator<1.11,>=1.10 in /usr/local/lib/python3.6/dist-packages (from rasa) (1.10)\n",
            "Requirement already satisfied: coloredlogs<15,>=10 in /usr/local/lib/python3.6/dist-packages (from rasa) (10.0)\n",
            "Requirement already satisfied: ujson<4.0,>=1.35 in /usr/local/lib/python3.6/dist-packages (from rasa) (3.2.0)\n",
            "Requirement already satisfied: sanic<21.0.0,>=19.12.2 in /usr/local/lib/python3.6/dist-packages (from rasa) (20.9.1)\n",
            "Requirement already satisfied: jsonpickle<1.5,>=1.3 in /usr/local/lib/python3.6/dist-packages (from rasa) (1.4.1)\n",
            "Requirement already satisfied: aiohttp<3.7,>=3.6 in /usr/local/lib/python3.6/dist-packages (from rasa) (3.6.3)\n",
            "Requirement already satisfied: SQLAlchemy<1.4.0,>=1.3.3 in /usr/local/lib/python3.6/dist-packages (from rasa) (1.3.20)\n",
            "Requirement already satisfied: tensorflow_hub<0.10,>=0.9 in /usr/local/lib/python3.6/dist-packages (from rasa) (0.9.0)\n",
            "Requirement already satisfied: tensorflow-text<2.4,>=2.3; sys_platform != \"win32\" in /usr/local/lib/python3.6/dist-packages (from rasa) (2.3.0)\n",
            "Requirement already satisfied: tqdm<4.51,>=4.31 in /usr/local/lib/python3.6/dist-packages (from rasa) (4.41.1)\n",
            "Requirement already satisfied: pydot<1.5,>=1.4 in /usr/local/lib/python3.6/dist-packages (from rasa) (1.4.1)\n",
            "Requirement already satisfied: webexteamssdk<1.7.0,>=1.1.1 in /usr/local/lib/python3.6/dist-packages (from rasa) (1.6)\n",
            "Requirement already satisfied: multidict<5.0,>=4.6 in /usr/local/lib/python3.6/dist-packages (from rasa) (4.7.6)\n",
            "Requirement already satisfied: rasa-sdk<3.0.0,>=2.0.0 in /usr/local/lib/python3.6/dist-packages (from rasa) (2.0.0)\n",
            "Requirement already satisfied: regex<2020.10,>=2020.6 in /usr/local/lib/python3.6/dist-packages (from rasa) (2020.9.27)\n",
            "Requirement already satisfied: apscheduler<3.7,>=3.6 in /usr/local/lib/python3.6/dist-packages (from rasa) (3.6.3)\n",
            "Requirement already satisfied: joblib<0.16.0,>=0.15.1 in /usr/local/lib/python3.6/dist-packages (from rasa) (0.15.1)\n",
            "Requirement already satisfied: tensorflow-estimator<2.4,>=2.3 in /usr/local/lib/python3.6/dist-packages (from rasa) (2.3.0)\n",
            "Requirement already satisfied: prompt-toolkit<3.0,>=2.0 in /usr/local/lib/python3.6/dist-packages (from rasa) (2.0.10)\n",
            "Requirement already satisfied: colorhash<1.1.0,>=1.0.2 in /usr/local/lib/python3.6/dist-packages (from rasa) (1.0.2)\n",
            "Requirement already satisfied: slackclient<3.0.0,>=2.0.0 in /usr/local/lib/python3.6/dist-packages (from rasa) (2.9.3)\n",
            "Requirement already satisfied: redis<4.0,>=3.4 in /usr/local/lib/python3.6/dist-packages (from rasa) (3.5.3)\n",
            "Requirement already satisfied: sanic-cors<0.11.0,>=0.10.0b1 in /usr/local/lib/python3.6/dist-packages (from rasa) (0.10.0.post3)\n",
            "Collecting ruamel.yaml<0.17.0,>=0.16.5\n",
            "  Using cached https://files.pythonhosted.org/packages/7e/39/186f14f3836ac5d2a6a042c8de69988770e8b9abb537610edc429e4914aa/ruamel.yaml-0.16.12-py2.py3-none-any.whl\n",
            "Requirement already satisfied: sklearn-crfsuite<0.4,>=0.3 in /usr/local/lib/python3.6/dist-packages (from rasa) (0.3.6)\n",
            "Requirement already satisfied: python-socketio<4.7,>=4.4 in /usr/local/lib/python3.6/dist-packages (from rasa) (4.6.0)\n",
            "Requirement already satisfied: pytz<2021.0,>=2019.1 in /usr/local/lib/python3.6/dist-packages (from rasa) (2020.4)\n",
            "Requirement already satisfied: tensorflow-probability<0.12,>=0.11 in /usr/local/lib/python3.6/dist-packages (from rasa) (0.11.0)\n",
            "Requirement already satisfied: tensorflow<2.4,>=2.3 in /usr/local/lib/python3.6/dist-packages (from rasa) (2.3.0)\n",
            "Requirement already satisfied: python-engineio<3.14,>=3.11 in /usr/local/lib/python3.6/dist-packages (from rasa) (3.13.2)\n",
            "Requirement already satisfied: colorclass<2.3,>=2.2 in /usr/local/lib/python3.6/dist-packages (from rasa) (2.2.0)\n",
            "Requirement already satisfied: networkx<2.6,>=2.4 in /usr/local/lib/python3.6/dist-packages (from rasa) (2.5)\n",
            "Requirement already satisfied: rocketchat_API<1.10.0,>=0.6.31 in /usr/local/lib/python3.6/dist-packages (from rasa) (1.9.1)\n",
            "Requirement already satisfied: attrs<20.3,>=19.3 in /usr/local/lib/python3.6/dist-packages (from rasa) (20.2.0)\n",
            "Requirement already satisfied: kafka-python<3.0,>=1.4 in /usr/local/lib/python3.6/dist-packages (from rasa) (2.0.2)\n",
            "Requirement already satisfied: oauth2client==4.1.3 in /usr/local/lib/python3.6/dist-packages (from rasa) (4.1.3)\n",
            "Requirement already satisfied: pykwalify<1.8.0,>=1.7.0 in /usr/local/lib/python3.6/dist-packages (from rasa) (1.7.0)\n",
            "Requirement already satisfied: pymongo[srv,tls]<3.11,>=3.8 in /usr/local/lib/python3.6/dist-packages (from rasa) (3.10.1)\n",
            "Collecting jsonschema<3.3,>=3.2\n",
            "  Using cached https://files.pythonhosted.org/packages/c5/8f/51e89ce52a085483359217bc72cdbf6e75ee595d5b1d4b5ade40c7e018b8/jsonschema-3.2.0-py2.py3-none-any.whl\n",
            "Requirement already satisfied: sanic-jwt<1.5.0,>=1.3.2 in /usr/local/lib/python3.6/dist-packages (from rasa) (1.4.1)\n",
            "Collecting packaging<21.0,>=20.0\n",
            "  Downloading https://files.pythonhosted.org/packages/46/19/c5ab91b1b05cfe63cccd5cfc971db9214c6dd6ced54e33c30d5af1d2bc43/packaging-20.4-py2.py3-none-any.whl\n",
            "Requirement already satisfied: fbmessenger<6.1.0,>=6.0.0 in /usr/local/lib/python3.6/dist-packages (from rasa) (6.0.0)\n",
            "Requirement already satisfied: boto3<2.0,>=1.12 in /usr/local/lib/python3.6/dist-packages (from rasa) (1.16.17)\n",
            "Requirement already satisfied: tensorflow-addons<=0.12,>=0.10 in /usr/local/lib/python3.6/dist-packages (from rasa) (0.11.2)\n",
            "Requirement already satisfied: terminaltables<3.2.0,>=3.1.0 in /usr/local/lib/python3.6/dist-packages (from rasa) (3.1.0)\n",
            "Requirement already satisfied: PyJWT<1.8,>=1.7 in /usr/local/lib/python3.6/dist-packages (from rasa) (1.7.1)\n",
            "Collecting python-telegram-bot<13.0,>=11.1\n",
            "  Using cached https://files.pythonhosted.org/packages/a6/2d/c72fc9a28144277f6170f2fcbfd3bd9427943497522b2689846596eb86cf/python_telegram_bot-12.8-py2.py3-none-any.whl\n",
            "Collecting scikit-learn<0.24,>=0.22\n",
            "\u001b[?25l  Downloading https://files.pythonhosted.org/packages/5c/a1/273def87037a7fb010512bbc5901c31cfddfca8080bc63b42b26e3cc55b3/scikit_learn-0.23.2-cp36-cp36m-manylinux1_x86_64.whl (6.8MB)\n",
            "\u001b[K     |████████████████████████████████| 6.8MB 13.5MB/s \n",
            "\u001b[?25hRequirement already satisfied: scipy<2.0.0,>=1.4.1 in /usr/local/lib/python3.6/dist-packages (from rasa) (1.4.1)\n",
            "Collecting matplotlib<3.4,>=3.1\n",
            "\u001b[?25l  Downloading https://files.pythonhosted.org/packages/d2/43/2bd63467490036697e7be71444fafc7b236923d614d4521979a200c6b559/matplotlib-3.3.3-cp36-cp36m-manylinux1_x86_64.whl (11.6MB)\n",
            "\u001b[K     |████████████████████████████████| 11.6MB 44.3MB/s \n",
            "\u001b[?25hRequirement already satisfied: numpy<2.0,>=1.16 in /usr/local/lib/python3.6/dist-packages (from rasa) (1.18.5)\n",
            "Requirement already satisfied: absl-py<0.11,>=0.9 in /usr/local/lib/python3.6/dist-packages (from rasa) (0.10.0)\n",
            "Collecting cloudpickle<1.5,>=1.2\n",
            "  Downloading https://files.pythonhosted.org/packages/c6/a5/bb99276ec2685e11d34e4aefc0d9238626843ea51f974aa59c68317d34b2/cloudpickle-1.4.1-py3-none-any.whl\n",
            "Requirement already satisfied: psycopg2-binary<2.9.0,>=2.8.2 in /usr/local/lib/python3.6/dist-packages (from rasa) (2.8.6)\n",
            "Requirement already satisfied: pika<1.2.0,>=1.1.0 in /usr/local/lib/python3.6/dist-packages (from rasa) (1.1.0)\n",
            "Requirement already satisfied: six in /usr/local/lib/python3.6/dist-packages (from twilio<6.46,>=6.26->rasa) (1.15.0)\n",
            "Requirement already satisfied: certifi>=2017.4.17 in /usr/local/lib/python3.6/dist-packages (from requests<3.0,>=2.23->rasa) (2020.6.20)\n",
            "Requirement already satisfied: chardet<4,>=3.0.2 in /usr/local/lib/python3.6/dist-packages (from requests<3.0,>=2.23->rasa) (3.0.4)\n",
            "Requirement already satisfied: urllib3!=1.25.0,!=1.25.1,<1.26,>=1.21.1 in /usr/local/lib/python3.6/dist-packages (from requests<3.0,>=2.23->rasa) (1.24.3)\n",
            "Requirement already satisfied: idna<3,>=2.5 in /usr/local/lib/python3.6/dist-packages (from requests<3.0,>=2.23->rasa) (2.10)\n",
            "Requirement already satisfied: humanfriendly>=4.7 in /usr/local/lib/python3.6/dist-packages (from coloredlogs<15,>=10->rasa) (8.2)\n",
            "Requirement already satisfied: httptools>=0.0.10 in /usr/local/lib/python3.6/dist-packages (from sanic<21.0.0,>=19.12.2->rasa) (0.1.1)\n",
            "Requirement already satisfied: websockets<9.0,>=8.1 in /usr/local/lib/python3.6/dist-packages (from sanic<21.0.0,>=19.12.2->rasa) (8.1)\n",
            "Requirement already satisfied: uvloop>=0.5.3; sys_platform != \"win32\" and implementation_name == \"cpython\" in /usr/local/lib/python3.6/dist-packages (from sanic<21.0.0,>=19.12.2->rasa) (0.14.0)\n",
            "Requirement already satisfied: aiofiles>=0.3.0 in /usr/local/lib/python3.6/dist-packages (from sanic<21.0.0,>=19.12.2->rasa) (0.6.0)\n",
            "Requirement already satisfied: httpx==0.15.4 in /usr/local/lib/python3.6/dist-packages (from sanic<21.0.0,>=19.12.2->rasa) (0.15.4)\n",
            "Requirement already satisfied: importlib-metadata in /usr/local/lib/python3.6/dist-packages (from jsonpickle<1.5,>=1.3->rasa) (2.0.0)\n",
            "Requirement already satisfied: async-timeout<4.0,>=3.0 in /usr/local/lib/python3.6/dist-packages (from aiohttp<3.7,>=3.6->rasa) (3.0.1)\n",
            "Requirement already satisfied: yarl<1.6.0,>=1.0 in /usr/local/lib/python3.6/dist-packages (from aiohttp<3.7,>=3.6->rasa) (1.5.1)\n",
            "Requirement already satisfied: typing-extensions>=3.6.5; python_version < \"3.7\" in /usr/local/lib/python3.6/dist-packages (from aiohttp<3.7,>=3.6->rasa) (3.7.4.3)\n",
            "Requirement already satisfied: idna-ssl>=1.0; python_version < \"3.7\" in /usr/local/lib/python3.6/dist-packages (from aiohttp<3.7,>=3.6->rasa) (1.1.0)\n",
            "Requirement already satisfied: protobuf>=3.8.0 in /usr/local/lib/python3.6/dist-packages (from tensorflow_hub<0.10,>=0.9->rasa) (3.12.4)\n",
            "Requirement already satisfied: pyparsing>=2.1.4 in /usr/local/lib/python3.6/dist-packages (from pydot<1.5,>=1.4->rasa) (2.4.7)\n",
            "Requirement already satisfied: requests-toolbelt in /usr/local/lib/python3.6/dist-packages (from webexteamssdk<1.7.0,>=1.1.1->rasa) (0.9.1)\n",
            "Requirement already satisfied: future in /usr/local/lib/python3.6/dist-packages (from webexteamssdk<1.7.0,>=1.1.1->rasa) (0.17.1)\n",
            "Requirement already satisfied: tzlocal>=1.2 in /usr/local/lib/python3.6/dist-packages (from apscheduler<3.7,>=3.6->rasa) (1.5.1)\n",
            "Requirement already satisfied: wcwidth in /usr/local/lib/python3.6/dist-packages (from prompt-toolkit<3.0,>=2.0->rasa) (0.2.5)\n",
            "Requirement already satisfied: sanic-plugins-framework>=0.9.0 in /usr/local/lib/python3.6/dist-packages (from sanic-cors<0.11.0,>=0.10.0b1->rasa) (0.9.4.post1)\n",
            "Requirement already satisfied: ruamel.yaml.clib>=0.1.2; platform_python_implementation == \"CPython\" and python_version < \"3.9\" in /usr/local/lib/python3.6/dist-packages (from ruamel.yaml<0.17.0,>=0.16.5->rasa) (0.2.2)\n",
            "Requirement already satisfied: tabulate in /usr/local/lib/python3.6/dist-packages (from sklearn-crfsuite<0.4,>=0.3->rasa) (0.8.7)\n",
            "Requirement already satisfied: python-crfsuite>=0.8.3 in /usr/local/lib/python3.6/dist-packages (from sklearn-crfsuite<0.4,>=0.3->rasa) (0.9.7)\n",
            "Requirement already satisfied: gast>=0.3.2 in /usr/local/lib/python3.6/dist-packages (from tensorflow-probability<0.12,>=0.11->rasa) (0.3.3)\n",
            "Requirement already satisfied: decorator in /usr/local/lib/python3.6/dist-packages (from tensorflow-probability<0.12,>=0.11->rasa) (4.4.2)\n",
            "Requirement already satisfied: dm-tree in /usr/local/lib/python3.6/dist-packages (from tensorflow-probability<0.12,>=0.11->rasa) (0.1.5)\n",
            "Requirement already satisfied: wheel>=0.26 in /usr/local/lib/python3.6/dist-packages (from tensorflow<2.4,>=2.3->rasa) (0.35.1)\n",
            "Requirement already satisfied: termcolor>=1.1.0 in /usr/local/lib/python3.6/dist-packages (from tensorflow<2.4,>=2.3->rasa) (1.1.0)\n",
            "Requirement already satisfied: h5py<2.11.0,>=2.10.0 in /usr/local/lib/python3.6/dist-packages (from tensorflow<2.4,>=2.3->rasa) (2.10.0)\n",
            "Requirement already satisfied: grpcio>=1.8.6 in /usr/local/lib/python3.6/dist-packages (from tensorflow<2.4,>=2.3->rasa) (1.33.2)\n",
            "Requirement already satisfied: google-pasta>=0.1.8 in /usr/local/lib/python3.6/dist-packages (from tensorflow<2.4,>=2.3->rasa) (0.2.0)\n",
            "Requirement already satisfied: wrapt>=1.11.1 in /usr/local/lib/python3.6/dist-packages (from tensorflow<2.4,>=2.3->rasa) (1.12.1)\n",
            "Requirement already satisfied: opt-einsum>=2.3.2 in /usr/local/lib/python3.6/dist-packages (from tensorflow<2.4,>=2.3->rasa) (3.3.0)\n",
            "Requirement already satisfied: keras-preprocessing<1.2,>=1.1.1 in /usr/local/lib/python3.6/dist-packages (from tensorflow<2.4,>=2.3->rasa) (1.1.2)\n",
            "Requirement already satisfied: tensorboard<3,>=2.3.0 in /usr/local/lib/python3.6/dist-packages (from tensorflow<2.4,>=2.3->rasa) (2.3.0)\n",
            "Requirement already satisfied: astunparse==1.6.3 in /usr/local/lib/python3.6/dist-packages (from tensorflow<2.4,>=2.3->rasa) (1.6.3)\n",
            "Requirement already satisfied: pyasn1>=0.1.7 in /usr/local/lib/python3.6/dist-packages (from oauth2client==4.1.3->rasa) (0.4.8)\n",
            "Requirement already satisfied: rsa>=3.1.4 in /usr/local/lib/python3.6/dist-packages (from oauth2client==4.1.3->rasa) (4.6)\n",
            "Requirement already satisfied: httplib2>=0.9.1 in /usr/local/lib/python3.6/dist-packages (from oauth2client==4.1.3->rasa) (0.17.4)\n",
            "Requirement already satisfied: pyasn1-modules>=0.0.5 in /usr/local/lib/python3.6/dist-packages (from oauth2client==4.1.3->rasa) (0.2.8)\n",
            "Requirement already satisfied: docopt>=0.6.2 in /usr/local/lib/python3.6/dist-packages (from pykwalify<1.8.0,>=1.7.0->rasa) (0.6.2)\n",
            "Requirement already satisfied: PyYAML>=3.11 in /usr/local/lib/python3.6/dist-packages (from pykwalify<1.8.0,>=1.7.0->rasa) (3.13)\n",
            "Requirement already satisfied: dnspython<2.0.0,>=1.16.0; extra == \"srv\" in /usr/local/lib/python3.6/dist-packages (from pymongo[srv,tls]<3.11,>=3.8->rasa) (1.16.0)\n",
            "Requirement already satisfied: pyrsistent>=0.14.0 in /usr/local/lib/python3.6/dist-packages (from jsonschema<3.3,>=3.2->rasa) (0.17.3)\n",
            "Requirement already satisfied: jmespath<1.0.0,>=0.7.1 in /usr/local/lib/python3.6/dist-packages (from boto3<2.0,>=1.12->rasa) (0.10.0)\n",
            "Requirement already satisfied: botocore<1.20.0,>=1.19.17 in /usr/local/lib/python3.6/dist-packages (from boto3<2.0,>=1.12->rasa) (1.19.17)\n",
            "Requirement already satisfied: s3transfer<0.4.0,>=0.3.0 in /usr/local/lib/python3.6/dist-packages (from boto3<2.0,>=1.12->rasa) (0.3.3)\n",
            "Requirement already satisfied: typeguard>=2.7 in /usr/local/lib/python3.6/dist-packages (from tensorflow-addons<=0.12,>=0.10->rasa) (2.7.1)\n",
            "Requirement already satisfied: tornado>=5.1 in /usr/local/lib/python3.6/dist-packages (from python-telegram-bot<13.0,>=11.1->rasa) (5.1.1)\n",
            "Requirement already satisfied: cryptography in /usr/local/lib/python3.6/dist-packages (from python-telegram-bot<13.0,>=11.1->rasa) (3.2.1)\n",
            "Collecting threadpoolctl>=2.0.0\n",
            "  Downloading https://files.pythonhosted.org/packages/f7/12/ec3f2e203afa394a149911729357aa48affc59c20e2c1c8297a60f33f133/threadpoolctl-2.1.0-py3-none-any.whl\n",
            "Requirement already satisfied: kiwisolver>=1.0.1 in /usr/local/lib/python3.6/dist-packages (from matplotlib<3.4,>=3.1->rasa) (1.3.1)\n",
            "Requirement already satisfied: pillow>=6.2.0 in /usr/local/lib/python3.6/dist-packages (from matplotlib<3.4,>=3.1->rasa) (7.0.0)\n",
            "Requirement already satisfied: cycler>=0.10 in /usr/local/lib/python3.6/dist-packages (from matplotlib<3.4,>=3.1->rasa) (0.10.0)\n",
            "Requirement already satisfied: sniffio in /usr/local/lib/python3.6/dist-packages (from httpx==0.15.4->sanic<21.0.0,>=19.12.2->rasa) (1.2.0)\n",
            "Requirement already satisfied: rfc3986[idna2008]<2,>=1.3 in /usr/local/lib/python3.6/dist-packages (from httpx==0.15.4->sanic<21.0.0,>=19.12.2->rasa) (1.4.0)\n",
            "Requirement already satisfied: httpcore==0.11.* in /usr/local/lib/python3.6/dist-packages (from httpx==0.15.4->sanic<21.0.0,>=19.12.2->rasa) (0.11.1)\n",
            "Requirement already satisfied: zipp>=0.5 in /usr/local/lib/python3.6/dist-packages (from importlib-metadata->jsonpickle<1.5,>=1.3->rasa) (3.4.0)\n",
            "Requirement already satisfied: google-auth<2,>=1.6.3 in /usr/local/lib/python3.6/dist-packages (from tensorboard<3,>=2.3.0->tensorflow<2.4,>=2.3->rasa) (1.17.2)\n",
            "Requirement already satisfied: markdown>=2.6.8 in /usr/local/lib/python3.6/dist-packages (from tensorboard<3,>=2.3.0->tensorflow<2.4,>=2.3->rasa) (3.3.3)\n",
            "Requirement already satisfied: tensorboard-plugin-wit>=1.6.0 in /usr/local/lib/python3.6/dist-packages (from tensorboard<3,>=2.3.0->tensorflow<2.4,>=2.3->rasa) (1.7.0)\n",
            "Requirement already satisfied: google-auth-oauthlib<0.5,>=0.4.1 in /usr/local/lib/python3.6/dist-packages (from tensorboard<3,>=2.3.0->tensorflow<2.4,>=2.3->rasa) (0.4.2)\n",
            "Requirement already satisfied: werkzeug>=0.11.15 in /usr/local/lib/python3.6/dist-packages (from tensorboard<3,>=2.3.0->tensorflow<2.4,>=2.3->rasa) (1.0.1)\n",
            "Requirement already satisfied: cffi!=1.11.3,>=1.8 in /usr/local/lib/python3.6/dist-packages (from cryptography->python-telegram-bot<13.0,>=11.1->rasa) (1.14.3)\n",
            "Requirement already satisfied: contextvars>=2.1; python_version < \"3.7\" in /usr/local/lib/python3.6/dist-packages (from sniffio->httpx==0.15.4->sanic<21.0.0,>=19.12.2->rasa) (2.4)\n",
            "Requirement already satisfied: h11<0.10,>=0.8 in /usr/local/lib/python3.6/dist-packages (from httpcore==0.11.*->httpx==0.15.4->sanic<21.0.0,>=19.12.2->rasa) (0.9.0)\n",
            "Requirement already satisfied: cachetools<5.0,>=2.0.0 in /usr/local/lib/python3.6/dist-packages (from google-auth<2,>=1.6.3->tensorboard<3,>=2.3.0->tensorflow<2.4,>=2.3->rasa) (4.1.1)\n",
            "Requirement already satisfied: requests-oauthlib>=0.7.0 in /usr/local/lib/python3.6/dist-packages (from google-auth-oauthlib<0.5,>=0.4.1->tensorboard<3,>=2.3.0->tensorflow<2.4,>=2.3->rasa) (1.3.0)\n",
            "Requirement already satisfied: pycparser in /usr/local/lib/python3.6/dist-packages (from cffi!=1.11.3,>=1.8->cryptography->python-telegram-bot<13.0,>=11.1->rasa) (2.20)\n",
            "Requirement already satisfied: immutables>=0.9 in /usr/local/lib/python3.6/dist-packages (from contextvars>=2.1; python_version < \"3.7\"->sniffio->httpx==0.15.4->sanic<21.0.0,>=19.12.2->rasa) (0.14)\n",
            "Requirement already satisfied: oauthlib>=3.0.0 in /usr/local/lib/python3.6/dist-packages (from requests-oauthlib>=0.7.0->google-auth-oauthlib<0.5,>=0.4.1->tensorboard<3,>=2.3.0->tensorflow<2.4,>=2.3->rasa) (3.1.0)\n",
            "\u001b[31mERROR: worldmeter 0.2.1 has requirement python-dateutil==2.6.0, but you'll have python-dateutil 2.8.1 which is incompatible.\u001b[0m\n",
            "\u001b[31mERROR: tensorflow-probability 0.11.0 has requirement cloudpickle==1.3, but you'll have cloudpickle 1.4.1 which is incompatible.\u001b[0m\n",
            "\u001b[31mERROR: rasa-nlu 0.15.1 has requirement cloudpickle~=0.6.1, but you'll have cloudpickle 1.4.1 which is incompatible.\u001b[0m\n",
            "\u001b[31mERROR: rasa-nlu 0.15.1 has requirement jsonschema~=2.6, but you'll have jsonschema 3.2.0 which is incompatible.\u001b[0m\n",
            "\u001b[31mERROR: rasa-nlu 0.15.1 has requirement matplotlib~=2.2, but you'll have matplotlib 3.3.3 which is incompatible.\u001b[0m\n",
            "\u001b[31mERROR: rasa-nlu 0.15.1 has requirement packaging~=18.0, but you'll have packaging 20.4 which is incompatible.\u001b[0m\n",
            "\u001b[31mERROR: rasa-nlu 0.15.1 has requirement ruamel.yaml~=0.15.7, but you'll have ruamel-yaml 0.16.12 which is incompatible.\u001b[0m\n",
            "\u001b[31mERROR: rasa-nlu 0.15.1 has requirement scikit-learn~=0.20.2, but you'll have scikit-learn 0.23.2 which is incompatible.\u001b[0m\n",
            "\u001b[31mERROR: nbclient 0.5.1 has requirement jupyter-client>=6.1.5, but you'll have jupyter-client 5.3.5 which is incompatible.\u001b[0m\n",
            "\u001b[31mERROR: google-colab 1.0.0 has requirement ipython~=5.5.0, but you'll have ipython 7.16.1 which is incompatible.\u001b[0m\n",
            "\u001b[31mERROR: datascience 0.10.6 has requirement folium==0.2.1, but you'll have folium 0.8.3 which is incompatible.\u001b[0m\n",
            "\u001b[31mERROR: botocore 1.19.17 has requirement urllib3<1.27,>=1.25.4; python_version != \"3.4\", but you'll have urllib3 1.24.3 which is incompatible.\u001b[0m\n",
            "\u001b[31mERROR: albumentations 0.1.12 has requirement imgaug<0.2.7,>=0.2.5, but you'll have imgaug 0.2.9 which is incompatible.\u001b[0m\n",
            "Installing collected packages: python-dateutil, ruamel.yaml, jsonschema, packaging, python-telegram-bot, threadpoolctl, scikit-learn, matplotlib, cloudpickle\n",
            "  Found existing installation: python-dateutil 2.6.0\n",
            "    Uninstalling python-dateutil-2.6.0:\n",
            "      Successfully uninstalled python-dateutil-2.6.0\n",
            "  Found existing installation: ruamel.yaml 0.15.100\n",
            "    Uninstalling ruamel.yaml-0.15.100:\n",
            "      Successfully uninstalled ruamel.yaml-0.15.100\n",
            "  Found existing installation: jsonschema 2.6.0\n",
            "    Uninstalling jsonschema-2.6.0:\n",
            "      Successfully uninstalled jsonschema-2.6.0\n",
            "  Found existing installation: packaging 18.0\n",
            "    Uninstalling packaging-18.0:\n",
            "      Successfully uninstalled packaging-18.0\n",
            "  Found existing installation: python-telegram-bot 13.0\n",
            "    Uninstalling python-telegram-bot-13.0:\n",
            "      Successfully uninstalled python-telegram-bot-13.0\n",
            "  Found existing installation: scikit-learn 0.20.4\n",
            "    Uninstalling scikit-learn-0.20.4:\n",
            "      Successfully uninstalled scikit-learn-0.20.4\n",
            "  Found existing installation: matplotlib 2.2.5\n",
            "    Uninstalling matplotlib-2.2.5:\n",
            "      Successfully uninstalled matplotlib-2.2.5\n",
            "  Found existing installation: cloudpickle 0.6.1\n",
            "    Uninstalling cloudpickle-0.6.1:\n",
            "      Successfully uninstalled cloudpickle-0.6.1\n",
            "Successfully installed cloudpickle-1.4.1 jsonschema-3.2.0 matplotlib-3.3.3 packaging-20.4 python-dateutil-2.8.1 python-telegram-bot-12.8 ruamel.yaml-0.16.12 scikit-learn-0.23.2 threadpoolctl-2.1.0\n"
          ],
          "name": "stdout"
        },
        {
          "output_type": "display_data",
          "data": {
            "application/vnd.colab-display-data+json": {
              "pip_warning": {
                "packages": [
                  "dateutil",
                  "jsonschema",
                  "matplotlib",
                  "mpl_toolkits",
                  "ruamel"
                ]
              }
            }
          },
          "metadata": {
            "tags": []
          }
        }
      ]
    },
    {
      "cell_type": "code",
      "metadata": {
        "id": "keTqtz2UOi41",
        "colab": {
          "base_uri": "https://localhost:8080/",
          "height": 488
        },
        "outputId": "9e2a641d-f267-414c-8b9f-8e3cbc136ef1"
      },
      "source": [
        "pip install worldmeter"
      ],
      "execution_count": null,
      "outputs": [
        {
          "output_type": "stream",
          "text": [
            "Requirement already satisfied: worldmeter in /usr/local/lib/python3.6/dist-packages (0.2.1)\n",
            "Requirement already satisfied: requests in /usr/local/lib/python3.6/dist-packages (from worldmeter) (2.23.0)\n",
            "Requirement already satisfied: bs4 in /usr/local/lib/python3.6/dist-packages (from worldmeter) (0.0.1)\n",
            "Collecting python-dateutil==2.6.0\n",
            "  Using cached https://files.pythonhosted.org/packages/40/8b/275015d7a9ec293cf1bbf55433258fbc9d0711890a7f6dc538bac7b86bce/python_dateutil-2.6.0-py2.py3-none-any.whl\n",
            "Requirement already satisfied: chardet<4,>=3.0.2 in /usr/local/lib/python3.6/dist-packages (from requests->worldmeter) (3.0.4)\n",
            "Requirement already satisfied: urllib3!=1.25.0,!=1.25.1,<1.26,>=1.21.1 in /usr/local/lib/python3.6/dist-packages (from requests->worldmeter) (1.24.3)\n",
            "Requirement already satisfied: idna<3,>=2.5 in /usr/local/lib/python3.6/dist-packages (from requests->worldmeter) (2.10)\n",
            "Requirement already satisfied: certifi>=2017.4.17 in /usr/local/lib/python3.6/dist-packages (from requests->worldmeter) (2020.6.20)\n",
            "Requirement already satisfied: beautifulsoup4 in /usr/local/lib/python3.6/dist-packages (from bs4->worldmeter) (4.6.3)\n",
            "Requirement already satisfied: six>=1.5 in /usr/local/lib/python3.6/dist-packages (from python-dateutil==2.6.0->worldmeter) (1.15.0)\n",
            "\u001b[31mERROR: rasa 2.0.6 has requirement python-dateutil<2.9,>=2.8, but you'll have python-dateutil 2.6.0 which is incompatible.\u001b[0m\n",
            "\u001b[31mERROR: pandas 1.1.4 has requirement python-dateutil>=2.7.3, but you'll have python-dateutil 2.6.0 which is incompatible.\u001b[0m\n",
            "\u001b[31mERROR: lunarcalendar 0.0.9 has requirement python-dateutil>=2.6.1, but you'll have python-dateutil 2.6.0 which is incompatible.\u001b[0m\n",
            "\u001b[31mERROR: google-colab 1.0.0 has requirement ipython~=5.5.0, but you'll have ipython 7.16.1 which is incompatible.\u001b[0m\n",
            "\u001b[31mERROR: fbprophet 0.7.1 has requirement python-dateutil>=2.8.0, but you'll have python-dateutil 2.6.0 which is incompatible.\u001b[0m\n",
            "\u001b[31mERROR: botocore 1.19.17 has requirement urllib3<1.27,>=1.25.4; python_version != \"3.4\", but you'll have urllib3 1.24.3 which is incompatible.\u001b[0m\n",
            "\u001b[31mERROR: albumentations 0.1.12 has requirement imgaug<0.2.7,>=0.2.5, but you'll have imgaug 0.2.9 which is incompatible.\u001b[0m\n",
            "Installing collected packages: python-dateutil\n",
            "  Found existing installation: python-dateutil 2.8.1\n",
            "    Uninstalling python-dateutil-2.8.1:\n",
            "      Successfully uninstalled python-dateutil-2.8.1\n",
            "Successfully installed python-dateutil-2.6.0\n"
          ],
          "name": "stdout"
        },
        {
          "output_type": "display_data",
          "data": {
            "application/vnd.colab-display-data+json": {
              "pip_warning": {
                "packages": [
                  "dateutil"
                ]
              }
            }
          },
          "metadata": {
            "tags": []
          }
        }
      ]
    },
    {
      "cell_type": "code",
      "metadata": {
        "id": "LeWVI4E6-39r",
        "colab": {
          "base_uri": "https://localhost:8080/"
        },
        "outputId": "18b716f1-466a-4e22-9cce-63ceb7442ce5"
      },
      "source": [
        "pip install covid"
      ],
      "execution_count": null,
      "outputs": [
        {
          "output_type": "stream",
          "text": [
            "Requirement already satisfied: covid in /usr/local/lib/python3.6/dist-packages (2.4.0)\n",
            "Requirement already satisfied: beautifulsoup4 in /usr/local/lib/python3.6/dist-packages (from covid) (4.6.3)\n",
            "Requirement already satisfied: requests in /usr/local/lib/python3.6/dist-packages (from covid) (2.23.0)\n",
            "Requirement already satisfied: typer in /usr/local/lib/python3.6/dist-packages (from covid) (0.3.2)\n",
            "Requirement already satisfied: pydantic in /usr/local/lib/python3.6/dist-packages (from covid) (1.7.2)\n",
            "Requirement already satisfied: certifi>=2017.4.17 in /usr/local/lib/python3.6/dist-packages (from requests->covid) (2020.6.20)\n",
            "Requirement already satisfied: idna<3,>=2.5 in /usr/local/lib/python3.6/dist-packages (from requests->covid) (2.10)\n",
            "Requirement already satisfied: chardet<4,>=3.0.2 in /usr/local/lib/python3.6/dist-packages (from requests->covid) (3.0.4)\n",
            "Requirement already satisfied: urllib3!=1.25.0,!=1.25.1,<1.26,>=1.21.1 in /usr/local/lib/python3.6/dist-packages (from requests->covid) (1.24.3)\n",
            "Requirement already satisfied: click<7.2.0,>=7.1.1 in /usr/local/lib/python3.6/dist-packages (from typer->covid) (7.1.2)\n",
            "Requirement already satisfied: dataclasses>=0.6; python_version < \"3.7\" in /usr/local/lib/python3.6/dist-packages (from pydantic->covid) (0.7)\n"
          ],
          "name": "stdout"
        }
      ]
    },
    {
      "cell_type": "code",
      "metadata": {
        "id": "RJQ2Pn1Xl4d4",
        "colab": {
          "base_uri": "https://localhost:8080/",
          "height": 1000
        },
        "outputId": "b0e1398d-0480-49ed-ba01-410097feeef0"
      },
      "source": [
        "pip install rasa_nlu"
      ],
      "execution_count": null,
      "outputs": [
        {
          "output_type": "stream",
          "text": [
            "Requirement already satisfied: rasa_nlu in /usr/local/lib/python3.6/dist-packages (0.15.1)\n",
            "Requirement already satisfied: gevent~=1.3 in /usr/local/lib/python3.6/dist-packages (from rasa_nlu) (1.5.0)\n",
            "Collecting cloudpickle~=0.6.1\n",
            "  Using cached https://files.pythonhosted.org/packages/fc/87/7b7ef3038b4783911e3fdecb5c566e3a817ce3e890e164fc174c088edb1e/cloudpickle-0.6.1-py2.py3-none-any.whl\n",
            "Collecting ruamel.yaml~=0.15.7\n",
            "  Using cached https://files.pythonhosted.org/packages/e7/9f/83bb34eaf84032b0b54fcc4a6aff1858572d279d65a301c7ae875f523df5/ruamel.yaml-0.15.100-cp36-cp36m-manylinux1_x86_64.whl\n",
            "Requirement already satisfied: coloredlogs~=10.0 in /usr/local/lib/python3.6/dist-packages (from rasa_nlu) (10.0)\n",
            "Requirement already satisfied: requests~=2.20 in /usr/local/lib/python3.6/dist-packages (from rasa_nlu) (2.23.0)\n",
            "Collecting scikit-learn~=0.20.2\n",
            "  Using cached https://files.pythonhosted.org/packages/96/5b/5da31a6572dc6b7b2846a7cfcbe2e060a0e6af0e1059a6516965e40371b7/scikit_learn-0.20.4-cp36-cp36m-manylinux1_x86_64.whl\n",
            "Requirement already satisfied: future~=0.17.1 in /usr/local/lib/python3.6/dist-packages (from rasa_nlu) (0.17.1)\n",
            "Collecting matplotlib~=2.2\n",
            "  Using cached https://files.pythonhosted.org/packages/49/cc/94dd12083678ffbfee7cf5ac8bf341b0e6dac64c422851db094e532d1524/matplotlib-2.2.5-cp36-cp36m-manylinux1_x86_64.whl\n",
            "Requirement already satisfied: klein~=17.10 in /usr/local/lib/python3.6/dist-packages (from rasa_nlu) (17.10.0)\n",
            "Requirement already satisfied: tqdm~=4.19 in /usr/local/lib/python3.6/dist-packages (from rasa_nlu) (4.41.1)\n",
            "Requirement already satisfied: simplejson~=3.13 in /usr/local/lib/python3.6/dist-packages (from rasa_nlu) (3.17.2)\n",
            "Requirement already satisfied: boto3~=1.9 in /usr/local/lib/python3.6/dist-packages (from rasa_nlu) (1.16.17)\n",
            "Requirement already satisfied: numpy>=1.16 in /usr/local/lib/python3.6/dist-packages (from rasa_nlu) (1.18.5)\n",
            "Collecting jsonschema~=2.6\n",
            "  Using cached https://files.pythonhosted.org/packages/77/de/47e35a97b2b05c2fadbec67d44cfcdcd09b8086951b331d82de90d2912da/jsonschema-2.6.0-py2.py3-none-any.whl\n",
            "Collecting packaging~=18.0\n",
            "  Using cached https://files.pythonhosted.org/packages/89/d1/92e6df2e503a69df9faab187c684585f0136662c12bb1f36901d426f3fab/packaging-18.0-py2.py3-none-any.whl\n",
            "Requirement already satisfied: typing~=3.6 in /usr/local/lib/python3.6/dist-packages (from rasa_nlu) (3.7.4.3)\n",
            "Requirement already satisfied: greenlet>=0.4.14; platform_python_implementation == \"CPython\" in /usr/local/lib/python3.6/dist-packages (from gevent~=1.3->rasa_nlu) (0.4.17)\n",
            "Requirement already satisfied: humanfriendly>=4.7 in /usr/local/lib/python3.6/dist-packages (from coloredlogs~=10.0->rasa_nlu) (8.2)\n",
            "Requirement already satisfied: chardet<4,>=3.0.2 in /usr/local/lib/python3.6/dist-packages (from requests~=2.20->rasa_nlu) (3.0.4)\n",
            "Requirement already satisfied: certifi>=2017.4.17 in /usr/local/lib/python3.6/dist-packages (from requests~=2.20->rasa_nlu) (2020.6.20)\n",
            "Requirement already satisfied: urllib3!=1.25.0,!=1.25.1,<1.26,>=1.21.1 in /usr/local/lib/python3.6/dist-packages (from requests~=2.20->rasa_nlu) (1.24.3)\n",
            "Requirement already satisfied: idna<3,>=2.5 in /usr/local/lib/python3.6/dist-packages (from requests~=2.20->rasa_nlu) (2.10)\n",
            "Requirement already satisfied: scipy>=0.13.3 in /usr/local/lib/python3.6/dist-packages (from scikit-learn~=0.20.2->rasa_nlu) (1.4.1)\n",
            "Requirement already satisfied: cycler>=0.10 in /usr/local/lib/python3.6/dist-packages (from matplotlib~=2.2->rasa_nlu) (0.10.0)\n",
            "Requirement already satisfied: python-dateutil>=2.1 in /usr/local/lib/python3.6/dist-packages (from matplotlib~=2.2->rasa_nlu) (2.6.0)\n",
            "Requirement already satisfied: six>=1.10 in /usr/local/lib/python3.6/dist-packages (from matplotlib~=2.2->rasa_nlu) (1.15.0)\n",
            "Requirement already satisfied: pytz in /usr/local/lib/python3.6/dist-packages (from matplotlib~=2.2->rasa_nlu) (2020.4)\n",
            "Requirement already satisfied: pyparsing!=2.0.4,!=2.1.2,!=2.1.6,>=2.0.1 in /usr/local/lib/python3.6/dist-packages (from matplotlib~=2.2->rasa_nlu) (2.4.7)\n",
            "Requirement already satisfied: kiwisolver>=1.0.1 in /usr/local/lib/python3.6/dist-packages (from matplotlib~=2.2->rasa_nlu) (1.3.1)\n",
            "Requirement already satisfied: incremental in /usr/local/lib/python3.6/dist-packages (from klein~=17.10->rasa_nlu) (17.5.0)\n",
            "Requirement already satisfied: werkzeug in /usr/local/lib/python3.6/dist-packages (from klein~=17.10->rasa_nlu) (1.0.1)\n",
            "Requirement already satisfied: Twisted>=15.5 in /usr/local/lib/python3.6/dist-packages (from klein~=17.10->rasa_nlu) (20.3.0)\n",
            "Requirement already satisfied: jmespath<1.0.0,>=0.7.1 in /usr/local/lib/python3.6/dist-packages (from boto3~=1.9->rasa_nlu) (0.10.0)\n",
            "Requirement already satisfied: botocore<1.20.0,>=1.19.17 in /usr/local/lib/python3.6/dist-packages (from boto3~=1.9->rasa_nlu) (1.19.17)\n",
            "Requirement already satisfied: s3transfer<0.4.0,>=0.3.0 in /usr/local/lib/python3.6/dist-packages (from boto3~=1.9->rasa_nlu) (0.3.3)\n",
            "Requirement already satisfied: Automat>=0.3.0 in /usr/local/lib/python3.6/dist-packages (from Twisted>=15.5->klein~=17.10->rasa_nlu) (20.2.0)\n",
            "Requirement already satisfied: hyperlink>=17.1.1 in /usr/local/lib/python3.6/dist-packages (from Twisted>=15.5->klein~=17.10->rasa_nlu) (20.0.1)\n",
            "Requirement already satisfied: zope.interface>=4.4.2 in /usr/local/lib/python3.6/dist-packages (from Twisted>=15.5->klein~=17.10->rasa_nlu) (5.2.0)\n",
            "Requirement already satisfied: attrs>=19.2.0 in /usr/local/lib/python3.6/dist-packages (from Twisted>=15.5->klein~=17.10->rasa_nlu) (20.2.0)\n",
            "Requirement already satisfied: constantly>=15.1 in /usr/local/lib/python3.6/dist-packages (from Twisted>=15.5->klein~=17.10->rasa_nlu) (15.1.0)\n",
            "Requirement already satisfied: PyHamcrest!=1.10.0,>=1.9.0 in /usr/local/lib/python3.6/dist-packages (from Twisted>=15.5->klein~=17.10->rasa_nlu) (2.0.2)\n",
            "Requirement already satisfied: setuptools in /usr/local/lib/python3.6/dist-packages (from zope.interface>=4.4.2->Twisted>=15.5->klein~=17.10->rasa_nlu) (50.3.2)\n",
            "\u001b[31mERROR: tensorflow-probability 0.11.0 has requirement cloudpickle==1.3, but you'll have cloudpickle 0.6.1 which is incompatible.\u001b[0m\n",
            "\u001b[31mERROR: rasa 2.0.6 has requirement cloudpickle<1.5,>=1.2, but you'll have cloudpickle 0.6.1 which is incompatible.\u001b[0m\n",
            "\u001b[31mERROR: rasa 2.0.6 has requirement jsonschema<3.3,>=3.2, but you'll have jsonschema 2.6.0 which is incompatible.\u001b[0m\n",
            "\u001b[31mERROR: rasa 2.0.6 has requirement matplotlib<3.4,>=3.1, but you'll have matplotlib 2.2.5 which is incompatible.\u001b[0m\n",
            "\u001b[31mERROR: rasa 2.0.6 has requirement packaging<21.0,>=20.0, but you'll have packaging 18.0 which is incompatible.\u001b[0m\n",
            "\u001b[31mERROR: rasa 2.0.6 has requirement python-dateutil<2.9,>=2.8, but you'll have python-dateutil 2.6.0 which is incompatible.\u001b[0m\n",
            "\u001b[31mERROR: rasa 2.0.6 has requirement ruamel.yaml<0.17.0,>=0.16.5, but you'll have ruamel-yaml 0.15.100 which is incompatible.\u001b[0m\n",
            "\u001b[31mERROR: rasa 2.0.6 has requirement scikit-learn<0.24,>=0.22, but you'll have scikit-learn 0.20.4 which is incompatible.\u001b[0m\n",
            "\u001b[31mERROR: plotnine 0.6.0 has requirement matplotlib>=3.1.1, but you'll have matplotlib 2.2.5 which is incompatible.\u001b[0m\n",
            "\u001b[31mERROR: nbclient 0.5.1 has requirement jupyter-client>=6.1.5, but you'll have jupyter-client 5.3.5 which is incompatible.\u001b[0m\n",
            "\u001b[31mERROR: mizani 0.6.0 has requirement matplotlib>=3.1.1, but you'll have matplotlib 2.2.5 which is incompatible.\u001b[0m\n",
            "\u001b[31mERROR: gym 0.17.3 has requirement cloudpickle<1.7.0,>=1.2.0, but you'll have cloudpickle 0.6.1 which is incompatible.\u001b[0m\n",
            "\u001b[31mERROR: fbprophet 0.7.1 has requirement python-dateutil>=2.8.0, but you'll have python-dateutil 2.6.0 which is incompatible.\u001b[0m\n",
            "\u001b[31mERROR: datascience 0.10.6 has requirement folium==0.2.1, but you'll have folium 0.8.3 which is incompatible.\u001b[0m\n",
            "\u001b[31mERROR: albumentations 0.1.12 has requirement imgaug<0.2.7,>=0.2.5, but you'll have imgaug 0.2.9 which is incompatible.\u001b[0m\n",
            "Installing collected packages: cloudpickle, ruamel.yaml, scikit-learn, matplotlib, jsonschema, packaging\n",
            "  Found existing installation: cloudpickle 1.4.1\n",
            "    Uninstalling cloudpickle-1.4.1:\n",
            "      Successfully uninstalled cloudpickle-1.4.1\n",
            "  Found existing installation: ruamel.yaml 0.16.12\n",
            "    Uninstalling ruamel.yaml-0.16.12:\n",
            "      Successfully uninstalled ruamel.yaml-0.16.12\n",
            "  Found existing installation: scikit-learn 0.23.2\n",
            "    Uninstalling scikit-learn-0.23.2:\n",
            "      Successfully uninstalled scikit-learn-0.23.2\n",
            "  Found existing installation: matplotlib 3.3.3\n",
            "    Uninstalling matplotlib-3.3.3:\n",
            "      Successfully uninstalled matplotlib-3.3.3\n",
            "  Found existing installation: jsonschema 3.2.0\n",
            "    Uninstalling jsonschema-3.2.0:\n",
            "      Successfully uninstalled jsonschema-3.2.0\n",
            "  Found existing installation: packaging 20.4\n",
            "    Uninstalling packaging-20.4:\n",
            "      Successfully uninstalled packaging-20.4\n",
            "Successfully installed cloudpickle-0.6.1 jsonschema-2.6.0 matplotlib-2.2.5 packaging-18.0 ruamel.yaml-0.15.100 scikit-learn-0.20.4\n"
          ],
          "name": "stdout"
        },
        {
          "output_type": "display_data",
          "data": {
            "application/vnd.colab-display-data+json": {
              "pip_warning": {
                "packages": [
                  "jsonschema",
                  "matplotlib",
                  "mpl_toolkits",
                  "ruamel"
                ]
              }
            }
          },
          "metadata": {
            "tags": []
          }
        }
      ]
    },
    {
      "cell_type": "code",
      "metadata": {
        "id": "L0448s6g3aEh",
        "colab": {
          "base_uri": "https://localhost:8080/"
        },
        "outputId": "1b963400-49f6-48e3-b946-bc77bb3ee200"
      },
      "source": [
        "pip install curl"
      ],
      "execution_count": null,
      "outputs": [
        {
          "output_type": "stream",
          "text": [
            "Requirement already satisfied: curl in /usr/local/lib/python3.6/dist-packages (0.0.1)\n"
          ],
          "name": "stdout"
        }
      ]
    },
    {
      "cell_type": "markdown",
      "metadata": {
        "id": "b2R_zLwMaujN"
      },
      "source": [
        "telegram set up"
      ]
    },
    {
      "cell_type": "code",
      "metadata": {
        "id": "b4AYXMB6iAcX",
        "colab": {
          "base_uri": "https://localhost:8080/"
        },
        "outputId": "320fc644-cbbc-4e97-9dcf-9a55a078a3c1"
      },
      "source": [
        "import telegram\n",
        "bot = telegram.Bot(token='1383248012:AAHLNUZMa-w_fJySK2IsS5ER8ofpreOWXUg')\n",
        "print(bot.get_me())"
      ],
      "execution_count": null,
      "outputs": [
        {
          "output_type": "stream",
          "text": [
            "{'id': 1383248012, 'first_name': 'my_chatbot', 'is_bot': True, 'username': 'Zeyun_Chat_bot', 'can_join_groups': True, 'can_read_all_group_messages': False, 'supports_inline_queries': False}\n"
          ],
          "name": "stdout"
        }
      ]
    },
    {
      "cell_type": "code",
      "metadata": {
        "id": "A6dKo0rdUhW_",
        "colab": {
          "base_uri": "https://localhost:8080/"
        },
        "outputId": "7380d39a-1f00-49fa-b024-ffeef840ac22"
      },
      "source": [
        "from telegram.ext import Updater\n",
        "updater = Updater(token='1383248012:AAHLNUZMa-w_fJySK2IsS5ER8ofpreOWXUg', use_context=True)\n",
        "dispatcher = updater.dispatcher\n",
        "import logging\n",
        "logging.basicConfig(format='%(asctime)s - %(name)s - %(levelname)s - %(message)s',\n",
        "                     level=logging.INFO)\n",
        "def start(update, context):\n",
        "    context.bot.send_message(chat_id=update.effective_chat.id, text=\"Hello, What do you want to know about Covid-19?\")\n",
        "\n",
        "from telegram.ext import CommandHandler\n",
        "start_handler = CommandHandler('start', start)\n",
        "dispatcher.add_handler(start_handler)\n",
        "updater.start_polling()"
      ],
      "execution_count": null,
      "outputs": [
        {
          "output_type": "execute_result",
          "data": {
            "text/plain": [
              "<queue.Queue at 0x7f4b4214c240>"
            ]
          },
          "metadata": {
            "tags": []
          },
          "execution_count": 14
        }
      ]
    },
    {
      "cell_type": "markdown",
      "metadata": {
        "id": "pyI3ql6KYo_r"
      },
      "source": [
        "responding"
      ]
    },
    {
      "cell_type": "code",
      "metadata": {
        "id": "uS31POZJ2oXk",
        "colab": {
          "base_uri": "https://localhost:8080/"
        },
        "outputId": "908efbf5-4f23-4408-ba6c-a561d60608d1"
      },
      "source": [
        "import re\n",
        "def match_world(message):\n",
        "    words = {\n",
        "                'world': ['world', 'global', 'globe']\n",
        "                }\n",
        "    # Define a dictionary of patterns\n",
        "    patterns = {}\n",
        "\n",
        "    # Iterate over the keywords dictionary\n",
        "    for intent, keys in words.items():\n",
        "        # Create regular expressions and compile them into pattern objects\n",
        "        patterns[intent] = re.compile(\"|\".join(keys))\n",
        "    \n",
        "\n",
        "    matched_intent = None\n",
        "    for intent, pattern in patterns.items():\n",
        "        # Check if the pattern occurs in the message \n",
        "        if re.search(pattern, message):\n",
        "            matched_intent = intent\n",
        "    return matched_intent\n",
        "\n",
        "print(match_world(\"How many increase in cases are there in the U.S.\"))\n",
        "print(match_world(\"How many increase in cases are there in the the world\"))"
      ],
      "execution_count": null,
      "outputs": [
        {
          "output_type": "stream",
          "text": [
            "None\n",
            "world\n"
          ],
          "name": "stdout"
        }
      ]
    },
    {
      "cell_type": "code",
      "metadata": {
        "id": "tw86ehviTqSX",
        "colab": {
          "base_uri": "https://localhost:8080/"
        },
        "outputId": "f5f81d49-ba8d-4c82-cd66-18e90396b82a"
      },
      "source": [
        "## Using spaCy's entity recogniser\n",
        "import spacy\n",
        "import numpy as np\n",
        "import en_core_web_md\n",
        "nlp = spacy.load('en_core_web_md')\n",
        "\n",
        "\n",
        "\n",
        "# Define extract_entities()\n",
        "def extract_country(message):\n",
        "  \n",
        "    # Define included entities\n",
        "    include_country = ['GPE']\n",
        "    # Create a dict to hold the entities\n",
        "    ents = dict.fromkeys(include_country)\n",
        "    # Create a spacy document\n",
        "    doc = nlp(message)\n",
        "    if match_world(message) is 'world':\n",
        "        return \"world\"\n",
        "    else:\n",
        "        for ent in doc.ents:\n",
        "            if ent.label_ in include_country:\n",
        "                # Save interesting entities\n",
        "                ents[ent.label_] = ent.text\n",
        "        return ent.text\n",
        "\n",
        "print(extract_country('friends called Mary who have worked at Google since 2010 in China.'))\n",
        "print(extract_country('friends called Mary who have worked at Google since 2010 in the world.'))"
      ],
      "execution_count": null,
      "outputs": [
        {
          "output_type": "stream",
          "text": [
            "2020-11-13 05:41:58,586 - telegram.ext.updater - ERROR - Error while getting Updates: Conflict: terminated by other getUpdates request; make sure that only one bot instance is running\n",
            "2020-11-13 05:41:58,595 - telegram.ext.dispatcher - ERROR - No error handlers are registered, logging exception.\n",
            "Traceback (most recent call last):\n",
            "  File \"/usr/local/lib/python3.6/dist-packages/telegram/ext/updater.py\", line 379, in _network_loop_retry\n",
            "    if not action_cb():\n",
            "  File \"/usr/local/lib/python3.6/dist-packages/telegram/ext/updater.py\", line 340, in polling_action_cb\n",
            "    allowed_updates=allowed_updates)\n",
            "  File \"<decorator-gen-157>\", line 2, in get_updates\n",
            "  File \"/usr/local/lib/python3.6/dist-packages/telegram/bot.py\", line 67, in decorator\n",
            "    result = func(*args, **kwargs)\n",
            "  File \"/usr/local/lib/python3.6/dist-packages/telegram/bot.py\", line 2138, in get_updates\n",
            "    result = self._request.post(url, data, timeout=float(read_latency) + float(timeout))\n",
            "  File \"/usr/local/lib/python3.6/dist-packages/telegram/utils/request.py\", line 333, in post\n",
            "    **urlopen_kwargs)\n",
            "  File \"/usr/local/lib/python3.6/dist-packages/telegram/utils/request.py\", line 248, in _request_wrapper\n",
            "    raise Conflict(message)\n",
            "telegram.error.Conflict: Conflict: terminated by other getUpdates request; make sure that only one bot instance is running\n"
          ],
          "name": "stderr"
        },
        {
          "output_type": "stream",
          "text": [
            "China\n",
            "world\n"
          ],
          "name": "stdout"
        }
      ]
    },
    {
      "cell_type": "code",
      "metadata": {
        "id": "xzfRpnW1Ff1-",
        "colab": {
          "base_uri": "https://localhost:8080/"
        },
        "outputId": "70773ff6-70ab-4660-a51b-d1d339084500"
      },
      "source": [
        "import re\n",
        "def match_intent(message):\n",
        "    keywords = {\n",
        "                'deaths': ['death', 'dead', 'die','deaths','death number'], \n",
        "                'recovered': ['recovery', 'recover','recovered'], \n",
        "                'new_cases': ['increase', 'new case','grow','growing','growth'],\n",
        "                'confirmed':['cumulative','all','overall','total','confirmed'],\n",
        "                'active' : ['active', 'active cases'],\n",
        "                'critical':['critical','severe','dying'],\n",
        "                'new_deaths':['new death','recent death']\n",
        "                }\n",
        "    # Define a dictionary of patterns\n",
        "    patterns = {}\n",
        "\n",
        "    # Iterate over the keywords dictionary\n",
        "    for intent, keys in keywords.items():\n",
        "        # Create regular expressions and compile them into pattern objects\n",
        "        patterns[intent] = re.compile(\"|\".join(keys))\n",
        "    \n",
        "\n",
        "    matched_intent = None\n",
        "    for intent, pattern in patterns.items():\n",
        "        # Check if the pattern occurs in the message \n",
        "        if re.search(pattern, message):\n",
        "            matched_intent = intent\n",
        "    return matched_intent\n",
        "\n",
        "print(match_intent(\"How many increase in cases are there in the U.S.\"))"
      ],
      "execution_count": null,
      "outputs": [
        {
          "output_type": "stream",
          "text": [
            "new_cases\n"
          ],
          "name": "stdout"
        }
      ]
    },
    {
      "cell_type": "code",
      "metadata": {
        "id": "ZSUF4HkcYdm8"
      },
      "source": [
        "import covid\n",
        "from covid import Covid\n",
        "def get_data(country,case_type):\n",
        "    covid = Covid(source=\"worldometers\")\n",
        "    all_data = covid.get_status_by_country_name(country)\n",
        "    data = all_data[case_type]\n",
        "    return data"
      ],
      "execution_count": null,
      "outputs": []
    },
    {
      "cell_type": "code",
      "metadata": {
        "id": "oW3w7v8DdqT2"
      },
      "source": [
        "from covid import Covid\n",
        "def world_data(case_type):\n",
        "    covid = Covid(source=\"worldometers\")\n",
        "    if case_type is 'deaths':\n",
        "        return covid.get_total_deaths()\n",
        "    elif case_type is 'recovered':\n",
        "        return covid.get_total_recovered()\n",
        "    elif case_type is 'new_cases': \n",
        "        return covid.get_total_deaths()\n",
        "    elif case_type is 'confirmed':\n",
        "        return covid.get_total_confirmed_cases()\n",
        "    elif case_type is 'active':\n",
        "        return covid.get_total_active_cases()\n",
        "    elif case_type is 'critical': \n",
        "        return covid.get_total_critical()\n",
        "    elif case_type is 'new_deaths': \n",
        "        return covid.get_total_new_deaths()"
      ],
      "execution_count": null,
      "outputs": []
    },
    {
      "cell_type": "code",
      "metadata": {
        "id": "h5EwNtmzY-Ai"
      },
      "source": [
        "def wording(country):\n",
        "    # define punctuation\n",
        "    punctuations = '''!()-[]{};:'\"\\,<>./?@#$%^&*_~'''\n",
        "    # remove punctuation from the string\n",
        "    no_punct = \"\"\n",
        "    for char in country:\n",
        "      if char not in punctuations:\n",
        "          no_punct = no_punct + char\n",
        "    return no_punct"
      ],
      "execution_count": null,
      "outputs": []
    },
    {
      "cell_type": "code",
      "metadata": {
        "id": "PtNmBHdMjhL_",
        "colab": {
          "base_uri": "https://localhost:8080/"
        },
        "outputId": "a4724376-1ffd-49da-9c29-adf63cf9b2f0"
      },
      "source": [
        "import spacy\n",
        "import sqlite3\n",
        "import re\n",
        "import pandas as pd\n",
        "import spacy\n",
        "import numpy as np\n",
        "\n",
        "def respond(message):\n",
        "    response = 'The number of {0} cases in {1} is {2}.'\n",
        "    country = extract_country(message)\n",
        "    case_type = match_intent(message)\n",
        "    if country is 'world':\n",
        "        data = world_data(case_type)\n",
        "        return response.format(case_type,country,data)\n",
        "    elif 'not' in message or \"n't\" in message or \"outside\" in message or \"out\" in message:\n",
        "        country = wording(country)\n",
        "        data = world_data(case_type) - get_data(country,case_type)\n",
        "        return \"The number of {0} cases outside {1} is {2}.\".format(case_type,country,data)\n",
        "    else:\n",
        "        country = wording(country)\n",
        "        data = get_data(country,case_type)\n",
        "        return response.format(case_type,country,data)\n",
        "\n",
        "    \n",
        "\n",
        "print(respond('what is the number of confirmed cases in usa'))\n",
        "print(respond('what is the number of confirmed cases outside usa'))\n",
        "\n"
      ],
      "execution_count": null,
      "outputs": [
        {
          "output_type": "stream",
          "text": [
            "The number of confirmed cases in usa is 10873936.\n"
          ],
          "name": "stdout"
        },
        {
          "output_type": "stream",
          "text": [
            "2020-11-13 05:42:04,353 - telegram.ext.updater - ERROR - Error while getting Updates: Conflict: terminated by other getUpdates request; make sure that only one bot instance is running\n",
            "2020-11-13 05:42:04,376 - telegram.ext.dispatcher - ERROR - No error handlers are registered, logging exception.\n",
            "Traceback (most recent call last):\n",
            "  File \"/usr/local/lib/python3.6/dist-packages/telegram/ext/updater.py\", line 379, in _network_loop_retry\n",
            "    if not action_cb():\n",
            "  File \"/usr/local/lib/python3.6/dist-packages/telegram/ext/updater.py\", line 340, in polling_action_cb\n",
            "    allowed_updates=allowed_updates)\n",
            "  File \"<decorator-gen-157>\", line 2, in get_updates\n",
            "  File \"/usr/local/lib/python3.6/dist-packages/telegram/bot.py\", line 67, in decorator\n",
            "    result = func(*args, **kwargs)\n",
            "  File \"/usr/local/lib/python3.6/dist-packages/telegram/bot.py\", line 2138, in get_updates\n",
            "    result = self._request.post(url, data, timeout=float(read_latency) + float(timeout))\n",
            "  File \"/usr/local/lib/python3.6/dist-packages/telegram/utils/request.py\", line 333, in post\n",
            "    **urlopen_kwargs)\n",
            "  File \"/usr/local/lib/python3.6/dist-packages/telegram/utils/request.py\", line 248, in _request_wrapper\n",
            "    raise Conflict(message)\n",
            "telegram.error.Conflict: Conflict: terminated by other getUpdates request; make sure that only one bot instance is running\n"
          ],
          "name": "stderr"
        },
        {
          "output_type": "stream",
          "text": [
            "The number of confirmed cases outside usa is 42218669.\n"
          ],
          "name": "stdout"
        }
      ]
    },
    {
      "cell_type": "markdown",
      "metadata": {
        "id": "sJq8nZWGaysa"
      },
      "source": [
        "output message"
      ]
    },
    {
      "cell_type": "code",
      "metadata": {
        "id": "hN_r_TdXUnrS"
      },
      "source": [
        "#input : update.message.text\n",
        "#output: message\n",
        "#get the message from users and print the responce to the users\n",
        "def echo(update, context):\n",
        "\n",
        "    message = respond(update.message.text)\n",
        "    context.bot.send_message(chat_id=update.effective_chat.id, text= message)\n",
        "\n",
        "from telegram.ext import MessageHandler, Filters\n",
        "echo_handler = MessageHandler(Filters.text & (~Filters.command), echo)\n",
        "dispatcher.add_handler(echo_handler)"
      ],
      "execution_count": null,
      "outputs": []
    },
    {
      "cell_type": "code",
      "metadata": {
        "id": "Ldr53xwIhMJu"
      },
      "source": [
        "def caps(update, context):\n",
        "    text_caps = ' '.join(context.args).upper()\n",
        "    context.bot.send_message(chat_id=update.effective_chat.id, text=text_caps)\n",
        "\n",
        "caps_handler = CommandHandler('caps', caps)\n",
        "dispatcher.add_handler(caps_handler)"
      ],
      "execution_count": null,
      "outputs": []
    },
    {
      "cell_type": "code",
      "metadata": {
        "id": "AJodtjL8rRXU",
        "colab": {
          "base_uri": "https://localhost:8080/"
        },
        "outputId": "3985708b-af47-4f63-fd06-cd60785949ee"
      },
      "source": [
        "import http.client\n",
        "import json \n",
        "conn = http.client.HTTPSConnection(\"covid19-update-api.herokuapp.com\")\n",
        "\n",
        "headers = {\n",
        "    'Content-Type': \"application/json\",\n",
        "    }\n",
        "\n",
        "conn.request(\"GET\", \"/api/v1/world/country/china\", headers=headers)\n",
        "\n",
        "res = conn.getresponse()\n",
        "data = res.read()\n",
        "info = data.decode(\"utf-8\")\n",
        "countries = json.loads(info)\n",
        "num =  countries[\"countries\"]\n",
        "print(num[0])"
      ],
      "execution_count": null,
      "outputs": [
        {
          "output_type": "stream",
          "text": [
            "{'name': 'China', 'cases': 86307, 'deaths': 4634, 'continent': 'Asia'}\n"
          ],
          "name": "stdout"
        }
      ]
    }
  ]
}